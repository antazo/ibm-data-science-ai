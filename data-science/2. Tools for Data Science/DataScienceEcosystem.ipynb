{
 "cells": [
  {
   "cell_type": "markdown",
   "id": "00b9f4bf-71fa-4a39-9ff6-28ca408f3348",
   "metadata": {},
   "source": [
    "<H1>Data Science Tools and Ecosystem</H1>"
   ]
  },
  {
   "cell_type": "markdown",
   "id": "67325b70-18f2-415c-9bd4-6c982e3a4a39",
   "metadata": {},
   "source": [
    "In this notebook, Data Science Tools and Ecosystem are summarized."
   ]
  },
  {
   "cell_type": "markdown",
   "id": "29535743-fd5c-4412-9835-24da3428f900",
   "metadata": {},
   "source": [
    "__Objectives:__\n",
    " * List popular languages for Data Science\n",
    " * Commonly used libraries used by Data Scientists\n",
    " * Development environment open source tools used in Data Science\n",
    " * Examples of evaluating arithmetic expressions in Python"
   ]
  },
  {
   "cell_type": "markdown",
   "id": "bce849c5-1b70-4379-9e73-5d3cccffd5d8",
   "metadata": {},
   "source": [
    "Some of the popular languages that Data Scientists use are:\n",
    " * Julia\n",
    " * Python\n",
    " * R\n",
    "\n",
    "Other popular languages of Data Science are:\n",
    " * SQL\n",
    " * Scala\n",
    " * C++\n",
    " * Java"
   ]
  },
  {
   "cell_type": "markdown",
   "id": "9e8e38e0-4684-4f5b-8a42-d89ad71c76e2",
   "metadata": {},
   "source": [
    "Some of the commonly used libraries used by Data Scientists include:\n",
    " * Scientific computing: Pandas, NumPy, Scipy, Matplotlib\n",
    " * Artificial Intelligence: TensorFlow, PyTorch, Keras, Scikit-learn\n",
    " * Natural Language Processing: NLTK"
   ]
  },
  {
   "cell_type": "markdown",
   "id": "d20b27f1-3748-412e-b4b9-5bfdc39f2a22",
   "metadata": {},
   "source": [
    "Three development environment open source tools used in Data Science:\n",
    "| Data Science Tools |\n",
    "| --- |\n",
    "| JupyterLab |\n",
    "| RStudio |\n",
    "| Apache Spark |"
   ]
  },
  {
   "cell_type": "markdown",
   "id": "e8cf7ea7-6921-43dd-9e35-16a34fb4d58e",
   "metadata": {},
   "source": [
    "<H3>Below are a few examples of evaluating arithmetic expressions in Python</H3>"
   ]
  },
  {
   "cell_type": "code",
   "execution_count": 20,
   "id": "324476e3-d71c-4b1d-b6ff-0675a3b80266",
   "metadata": {},
   "outputs": [
    {
     "data": {
      "text/plain": [
       "17"
      ]
     },
     "execution_count": 20,
     "metadata": {},
     "output_type": "execute_result"
    }
   ],
   "source": [
    "# This a simple arithmetic expression to mutiply then add integers\n",
    "(3*4)+5"
   ]
  },
  {
   "cell_type": "code",
   "execution_count": 21,
   "id": "5b8febc8-6fe0-42e8-a492-f2dd43713918",
   "metadata": {},
   "outputs": [
    {
     "name": "stdout",
     "output_type": "stream",
     "text": [
      "Hours:  3\n",
      "Minutes: 20\n"
     ]
    }
   ],
   "source": [
    "# This will convert 200 minutes to hours by diving by 60\n",
    "hours, minutes = divmod(200, 60)\n",
    "print(\"Hours: \", str(hours))\n",
    "print(\"Minutes:\", str(minutes))"
   ]
  },
  {
   "cell_type": "markdown",
   "id": "1995733b-deb2-41cf-a9e1-4b83a02d0cab",
   "metadata": {},
   "source": [
    "<H2>Author</H2>\n",
    "Alexan Antazo"
   ]
  }
 ],
 "metadata": {
  "kernelspec": {
   "display_name": "Python 3 (ipykernel)",
   "language": "python",
   "name": "python3"
  },
  "language_info": {
   "codemirror_mode": {
    "name": "ipython",
    "version": 3
   },
   "file_extension": ".py",
   "mimetype": "text/x-python",
   "name": "python",
   "nbconvert_exporter": "python",
   "pygments_lexer": "ipython3",
   "version": "3.12.5"
  }
 },
 "nbformat": 4,
 "nbformat_minor": 5
}
